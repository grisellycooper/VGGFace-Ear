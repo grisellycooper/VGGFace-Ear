{
 "cells": [
  {
   "cell_type": "code",
   "execution_count": 1,
   "metadata": {},
   "outputs": [],
   "source": [
    "import os\n",
    "import numpy as np\n",
    "from time import time"
   ]
  },
  {
   "cell_type": "code",
   "execution_count": 2,
   "metadata": {},
   "outputs": [],
   "source": [
    "from tensorflow import keras\n",
    "from tensorflow.keras import layers\n",
    "from tensorflow import keras\n",
    "from tensorflow.keras import layers\n",
    "from tensorflow.keras.applications import VGG16\n",
    "from tensorflow.keras.models import Sequential, Model, load_model\n",
    "from tensorflow.keras.layers import Dense, Conv2D, MaxPool2D ,Flatten, Dropout\n",
    "from tensorflow.keras.preprocessing.image import ImageDataGenerator\n",
    "from tensorflow.keras.optimizers import Adam, SGD, RMSprop"
   ]
  },
  {
   "cell_type": "code",
   "execution_count": 3,
   "metadata": {},
   "outputs": [],
   "source": [
    "ROOT_DIR = os.path.abspath(\"../../\")\n",
    "DS_DIR = os.path.join(ROOT_DIR, \"Datasets/VGGFEar\")\n",
    "DS_train_DIR = os.path.join(DS_DIR, \"train\")\n",
    "DS_test_DIR = os.path.join(DS_DIR, \"val\")\n",
    "img_width, img_height = 224, 224"
   ]
  },
  {
   "cell_type": "code",
   "execution_count": 4,
   "metadata": {},
   "outputs": [
    {
     "name": "stdout",
     "output_type": "stream",
     "text": [
      "Found 240000 images belonging to 400 classes.\n",
      "Found 80000 images belonging to 400 classes.\n"
     ]
    }
   ],
   "source": [
    "trdata = ImageDataGenerator(\n",
    "    rescale=1./255.)\n",
    "traindata = trdata.flow_from_directory(\n",
    "    directory=DS_train_DIR,\n",
    "    target_size=(img_width,img_height),\n",
    "    batch_size=32,\n",
    "    class_mode='categorical')\n",
    "\n",
    "tsdata = ImageDataGenerator(\n",
    "    rescale=1./255.)\n",
    "testdata = tsdata.flow_from_directory(\n",
    "    directory=DS_test_DIR, \n",
    "    target_size=(img_width,img_height),\n",
    "    batch_size=32,\n",
    "    class_mode='categorical')"
   ]
  },
  {
   "cell_type": "code",
   "execution_count": 5,
   "metadata": {},
   "outputs": [],
   "source": [
    "set_size = 400   #clases"
   ]
  },
  {
   "cell_type": "code",
   "execution_count": 6,
   "metadata": {},
   "outputs": [
    {
     "name": "stdout",
     "output_type": "stream",
     "text": [
      "Model: \"vgg16\"\n",
      "_________________________________________________________________\n",
      "Layer (type)                 Output Shape              Param #   \n",
      "=================================================================\n",
      "input_1 (InputLayer)         [(None, 224, 224, 3)]     0         \n",
      "_________________________________________________________________\n",
      "block1_conv1 (Conv2D)        (None, 224, 224, 64)      1792      \n",
      "_________________________________________________________________\n",
      "block1_conv2 (Conv2D)        (None, 224, 224, 64)      36928     \n",
      "_________________________________________________________________\n",
      "block1_pool (MaxPooling2D)   (None, 112, 112, 64)      0         \n",
      "_________________________________________________________________\n",
      "block2_conv1 (Conv2D)        (None, 112, 112, 128)     73856     \n",
      "_________________________________________________________________\n",
      "block2_conv2 (Conv2D)        (None, 112, 112, 128)     147584    \n",
      "_________________________________________________________________\n",
      "block2_pool (MaxPooling2D)   (None, 56, 56, 128)       0         \n",
      "_________________________________________________________________\n",
      "block3_conv1 (Conv2D)        (None, 56, 56, 256)       295168    \n",
      "_________________________________________________________________\n",
      "block3_conv2 (Conv2D)        (None, 56, 56, 256)       590080    \n",
      "_________________________________________________________________\n",
      "block3_conv3 (Conv2D)        (None, 56, 56, 256)       590080    \n",
      "_________________________________________________________________\n",
      "block3_pool (MaxPooling2D)   (None, 28, 28, 256)       0         \n",
      "_________________________________________________________________\n",
      "block4_conv1 (Conv2D)        (None, 28, 28, 512)       1180160   \n",
      "_________________________________________________________________\n",
      "block4_conv2 (Conv2D)        (None, 28, 28, 512)       2359808   \n",
      "_________________________________________________________________\n",
      "block4_conv3 (Conv2D)        (None, 28, 28, 512)       2359808   \n",
      "_________________________________________________________________\n",
      "block4_pool (MaxPooling2D)   (None, 14, 14, 512)       0         \n",
      "_________________________________________________________________\n",
      "block5_conv1 (Conv2D)        (None, 14, 14, 512)       2359808   \n",
      "_________________________________________________________________\n",
      "block5_conv2 (Conv2D)        (None, 14, 14, 512)       2359808   \n",
      "_________________________________________________________________\n",
      "block5_conv3 (Conv2D)        (None, 14, 14, 512)       2359808   \n",
      "_________________________________________________________________\n",
      "block5_pool (MaxPooling2D)   (None, 7, 7, 512)         0         \n",
      "_________________________________________________________________\n",
      "flatten (Flatten)            (None, 25088)             0         \n",
      "_________________________________________________________________\n",
      "fc1 (Dense)                  (None, 4096)              102764544 \n",
      "_________________________________________________________________\n",
      "fc2 (Dense)                  (None, 4096)              16781312  \n",
      "_________________________________________________________________\n",
      "predictions (Dense)          (None, 1000)              4097000   \n",
      "=================================================================\n",
      "Total params: 138,357,544\n",
      "Trainable params: 138,357,544\n",
      "Non-trainable params: 0\n",
      "_________________________________________________________________\n"
     ]
    }
   ],
   "source": [
    "vgg_conv = VGG16(weights='imagenet', include_top=True, input_shape=(img_width, img_height, 3))\n",
    "vgg_conv.summary()"
   ]
  },
  {
   "cell_type": "code",
   "execution_count": 7,
   "metadata": {},
   "outputs": [
    {
     "name": "stdout",
     "output_type": "stream",
     "text": [
      "Model: \"sequential\"\n",
      "_________________________________________________________________\n",
      "Layer (type)                 Output Shape              Param #   \n",
      "=================================================================\n",
      "functional_1 (Functional)    (None, 25088)             14714688  \n",
      "_________________________________________________________________\n",
      "fc1 (Dense)                  (None, 512)               12845568  \n",
      "_________________________________________________________________\n",
      "fc2 (Dense)                  (None, 512)               262656    \n",
      "_________________________________________________________________\n",
      "predictions (Dense)          (None, 400)               205200    \n",
      "=================================================================\n",
      "Total params: 28,028,112\n",
      "Trainable params: 28,028,112\n",
      "Non-trainable params: 0\n",
      "_________________________________________________________________\n"
     ]
    }
   ],
   "source": [
    "vgg_conv = Model(vgg_conv.input, vgg_conv.get_layer('flatten').output)\n",
    "\n",
    "# Create the model\n",
    "my_vgg = Sequential()\n",
    " \n",
    "# Add the vgg convolutional base model\n",
    "my_vgg.add(vgg_conv)\n",
    " \n",
    "my_vgg.add(Dense(512, activation='relu', name='fc1'))\n",
    "#my_vgg.add(Dropout(0.5))\n",
    "my_vgg.add(Dense(512, activation='relu', name='fc2'))\n",
    "#my_vgg.add(Dropout(0.5))\n",
    "my_vgg.add(Dense(set_size, activation='softmax', name='predictions'))\n",
    " \n",
    "# Show a summary of the model. Check the number of trainable parameters\n",
    "my_vgg.summary()"
   ]
  },
  {
   "cell_type": "code",
   "execution_count": 8,
   "metadata": {},
   "outputs": [
    {
     "name": "stdout",
     "output_type": "stream",
     "text": [
      "<tensorflow.python.keras.engine.functional.Functional object at 0x000001E275AD4D08> False\n",
      "<tensorflow.python.keras.layers.core.Dense object at 0x000001E274978448> True\n",
      "<tensorflow.python.keras.layers.core.Dense object at 0x000001E20035CE48> True\n",
      "<tensorflow.python.keras.layers.core.Dense object at 0x000001E200362848> True\n"
     ]
    }
   ],
   "source": [
    "# Freeze the layers except the last 3 layers\n",
    "for layer in my_vgg.layers[:1]:\n",
    "    layer.trainable = False\n",
    "\n",
    "for layer in my_vgg.layers:\n",
    "    print(layer, layer.trainable)"
   ]
  },
  {
   "cell_type": "code",
   "execution_count": 9,
   "metadata": {},
   "outputs": [
    {
     "name": "stdout",
     "output_type": "stream",
     "text": [
      "Model: \"sequential\"\n",
      "_________________________________________________________________\n",
      "Layer (type)                 Output Shape              Param #   \n",
      "=================================================================\n",
      "functional_1 (Functional)    (None, 25088)             14714688  \n",
      "_________________________________________________________________\n",
      "fc1 (Dense)                  (None, 512)               12845568  \n",
      "_________________________________________________________________\n",
      "fc2 (Dense)                  (None, 512)               262656    \n",
      "_________________________________________________________________\n",
      "predictions (Dense)          (None, 400)               205200    \n",
      "=================================================================\n",
      "Total params: 28,028,112\n",
      "Trainable params: 13,313,424\n",
      "Non-trainable params: 14,714,688\n",
      "_________________________________________________________________\n"
     ]
    }
   ],
   "source": [
    "my_vgg.summary()"
   ]
  },
  {
   "cell_type": "code",
   "execution_count": 10,
   "metadata": {},
   "outputs": [],
   "source": [
    "my_vgg.compile(optimizer=Adam(lr=0.01), loss=keras.losses.categorical_crossentropy, metrics=['accuracy'])  #vgg16_1.h5--> 58%\n",
    "#model.compile(optimizer=SGD(lr=0.001, momentum=0.9), loss=keras.losses.sparse_categorical_crossentropy, metrics=['accuracy'])  #vgg16_2.h5--> 99%  #with 2 dropout layers\n",
    "#my_vgg.compile(optimizer=SGD(lr=0.001, momentum=0.9), loss=keras.losses.categorical_crossentropy, metrics=['accuracy'])  #vgg16_2.h5--> 99.37%  #without dropout layers\n",
    "#model.compile(optimizer=SGD(lr=0.0001, momentum=0.9), loss=keras.losses.sparse_categorical_crossentropy, metrics=['accuracy'])  #vgg16_2.h5--> 98.75%\n",
    "#model.compile(optimizer=SGD(lr=0.01, momentum=0.9), loss=keras.losses.sparse_categorical_crossentropy, metrics=['accuracy'])  #vgg16_2.h5--> 55%\n",
    "#my_vgg.compile(optimizer=RMSprop(lr=0.001), loss=keras.losses.categorical_crossentropy, metrics=['accuracy'])  #vgg16_3.h5--> 55%"
   ]
  },
  {
   "cell_type": "code",
   "execution_count": null,
   "metadata": {},
   "outputs": [
    {
     "name": "stdout",
     "output_type": "stream",
     "text": [
      "WARNING:tensorflow:`period` argument is deprecated. Please use `save_freq` to specify the frequency in number of batches seen.\n",
      "WARNING:tensorflow:From <ipython-input-11-a0b0722f48fb>:27: Model.fit_generator (from tensorflow.python.keras.engine.training) is deprecated and will be removed in a future version.\n",
      "Instructions for updating:\n",
      "Please use Model.fit, which supports generators.\n",
      "Epoch 1/100\n",
      "7500/7500 [==============================] - ETA: 0s - loss: 6.0393 - accuracy: 0.0024\n",
      "Epoch 00001: val_accuracy improved from -inf to 0.00250, saving model to vgg16_vggfaceeartrain400_trainclassif_OpAdam_100epoch.h5\n",
      "7500/7500 [==============================] - 982s 131ms/step - loss: 6.0393 - accuracy: 0.0024 - val_loss: 5.9997 - val_accuracy: 0.0025\n",
      "Epoch 2/100\n",
      "7500/7500 [==============================] - ETA: 0s - loss: 6.0013 - accuracy: 0.0024\n",
      "Epoch 00002: val_accuracy did not improve from 0.00250\n",
      "7500/7500 [==============================] - 852s 114ms/step - loss: 6.0013 - accuracy: 0.0024 - val_loss: 6.0003 - val_accuracy: 0.0025\n",
      "Epoch 3/100\n",
      "6961/7500 [==========================>...] - ETA: 46s - loss: 6.0012 - accuracy: 0.0024"
     ]
    }
   ],
   "source": [
    "from tensorflow.keras.callbacks import ModelCheckpoint, EarlyStopping\n",
    "\n",
    "checkpoint = ModelCheckpoint(\n",
    "    \"vgg16_vggfaceeartrain400_trainclassif_OpAdam_100epoch.h5\", \n",
    "    monitor='val_accuracy', \n",
    "    verbose=1, \n",
    "    save_best_only=True, \n",
    "    save_weights_only=False, \n",
    "    mode='auto', \n",
    "    period=1)\n",
    "\n",
    "early = EarlyStopping(\n",
    "    monitor='val_accuracy', \n",
    "    min_delta=0, \n",
    "    patience=15,\n",
    "    #if it doesn’t see any rise in validation accuracy in 25,  the model will stop \n",
    "    verbose=1, \n",
    "    mode='auto')\n",
    "\n",
    "start = time()\n",
    "hist = my_vgg.fit_generator(\n",
    "    steps_per_epoch=240000//32,\n",
    "    generator=traindata, \n",
    "    validation_data= testdata, \n",
    "    validation_steps=80000//32,\n",
    "    epochs=100,\n",
    "    callbacks=[checkpoint,early])\n",
    "\n",
    "print(\"TIME: {}\".format((time()-start)/60))"
   ]
  },
  {
   "cell_type": "code",
   "execution_count": null,
   "metadata": {},
   "outputs": [],
   "source": [
    "import matplotlib.pyplot as plt\n",
    "fig, ax = plt.subplots()\n",
    "plt.plot(hist.history[\"accuracy\"])\n",
    "plt.plot(hist.history['val_accuracy'])\n",
    "plt.plot(hist.history['loss'])\n",
    "plt.plot(hist.history['val_loss'])\n",
    "plt.title(\"model accuracy\")\n",
    "plt.ylabel(\"Accuracy\")\n",
    "plt.xlabel(\"Epoch\")\n",
    "plt.legend([\"Accuracy\",\"Validation Accuracy\",\"loss\",\"Validation Loss\"])\n",
    "plt.show()\n",
    "fig.savefig('vgg16_vggfaceeartrain400_trainclassif_OpAdam_100epoch.png') # Plot 4dataset merge training val_acc = 0.96875\n",
    "plt.close()"
   ]
  },
  {
   "cell_type": "code",
   "execution_count": null,
   "metadata": {},
   "outputs": [],
   "source": []
  }
 ],
 "metadata": {
  "kernelspec": {
   "display_name": "Python 3",
   "language": "python",
   "name": "python3"
  },
  "language_info": {
   "codemirror_mode": {
    "name": "ipython",
    "version": 3
   },
   "file_extension": ".py",
   "mimetype": "text/x-python",
   "name": "python",
   "nbconvert_exporter": "python",
   "pygments_lexer": "ipython3",
   "version": "3.7.9"
  }
 },
 "nbformat": 4,
 "nbformat_minor": 4
}
